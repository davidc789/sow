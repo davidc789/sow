{
 "cells": [
  {
   "cell_type": "code",
   "execution_count": null,
   "id": "initial_id",
   "metadata": {
    "collapsed": true
   },
   "outputs": [],
   "source": [
    "from typing import Optional\n",
    "import model\n"
   ]
  },
  {
   "cell_type": "markdown",
   "source": [
    "## Basic BTW Model"
   ],
   "metadata": {
    "collapsed": false
   },
   "id": "1b71bf6a22ffa670"
  },
  {
   "cell_type": "markdown",
   "source": [
    "In this section, we explore the basic BTW model to verify the correctness of \n",
    "implementation."
   ],
   "metadata": {
    "collapsed": false
   },
   "id": "e9e424f004c416d0"
  },
  {
   "cell_type": "code",
   "execution_count": null,
   "outputs": [],
   "source": [
    "graph = model.make_grid_graph(5, 5)\n",
    "model = model.Model()\n",
    "\n",
    "\n"
   ],
   "metadata": {
    "collapsed": false
   },
   "id": "101a52ddfb4e08f5"
  },
  {
   "cell_type": "code",
   "execution_count": null,
   "outputs": [],
   "source": [],
   "metadata": {
    "collapsed": false
   },
   "id": "55d647523ec16956"
  }
 ],
 "metadata": {
  "kernelspec": {
   "display_name": "Python 3",
   "language": "python",
   "name": "python3"
  },
  "language_info": {
   "codemirror_mode": {
    "name": "ipython",
    "version": 2
   },
   "file_extension": ".py",
   "mimetype": "text/x-python",
   "name": "python",
   "nbconvert_exporter": "python",
   "pygments_lexer": "ipython2",
   "version": "2.7.6"
  }
 },
 "nbformat": 4,
 "nbformat_minor": 5
}
